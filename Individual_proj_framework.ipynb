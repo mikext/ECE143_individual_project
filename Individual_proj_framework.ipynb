{
 "cells": [
  {
   "cell_type": "markdown",
   "metadata": {},
   "source": [
    "## Framework and Interfaces of this project"
   ]
  },
  {
   "cell_type": "markdown",
   "metadata": {},
   "source": [
    "This project is using modular design paradigm, i.e., using functions instead of classes.\n",
    "\n",
    "The whole project includes following vital components.\n",
    "\n",
    "1. **Triming Component: This is the most important component of this project. It resolve how we choose and retain an area when a new tower is posed on the map.**\n",
    "    \n",
    "    **Function example: new_binary_map, new_tower_trimmed = commNetTrim(previous_binary_map, new_tower)**\n",
    "    \n",
    "    Inputs:\n",
    "        1. previous_binary_map: 2-D numpy binary array.\n",
    "        2. new_tower: a tuple of 4 integers, (left_up_x, left_up_y, length, height)\n",
    "    \n",
    "    Outputs:\n",
    "        1. new_binary_map: 2-D numpy binary array\n",
    "        2. new_tower_trimmed: a tuple of 4 integers, (left_up_x, left_up_y, length, height)\n",
    "\n",
    "2. **Tower Generating Component: This component generates a random tower.**\n",
    "\n",
    "    **Function example: new_tower = commNetGenTower(total_area)**\n",
    "\n",
    "    Inputs:\n",
    "        total_area: a tuple of 2 integers, (total_length, total_height).\n",
    "    \n",
    "    Outputs:\n",
    "        new_tower: a tuple of 4 integers, (left_up_x, left_up_y, length, height)\n",
    "    \n",
    "3. **Drawing Component: This component is for printing a colorful map of trimmed towers given a sequence of trimmed tower areas.**\n",
    "    \n",
    "    **Function example: net_patches = commNetDraw(trimmed_towers, total_area)**\n",
    "    \n",
    "    Inputs: \n",
    "        1. trimmed_towers: A list of tuples of 4 integers(left_up_x, left_up_y, length, height), representing trimmed tower areas.\n",
    "        2. total_area: a tuple of 2 integers, (total_length, total_height).\n",
    "    \n",
    "    Output:\n",
    "        net_patches: A matplotlib figure with different colors representing areas covered by different towers.\n",
    "        (Optional): A animation, that the plotting pauses once a new tower area is plotted.\n",
    "\n",
    "4. **Gluing Component: Gluing the previous three components and construct a pipeline**\n",
    "\n",
    "    **Function example: trimmed_towers, net_patches = commNetMain(total_area, given_towers)**\n",
    "    \n",
    "    Inputs: \n",
    "        1. given_towers: A list of tuples of 4 integers(left_up_x, left_up_y, length, height), representing given tower areas.\n",
    "        2. total_area: a tuple of 2 integers, (total_length, total_height).\n",
    "    \n",
    "    Output:\n",
    "        1. net_patches: A matplotlib figure with different colors representing areas covered by different towers.\n",
    "        2. trimmed_towers: A list of tuples of 4 integers(left_up_x, left_up_y, length, height), representing trimmed tower areas.\n",
    "        \n",
    "5. **Utilities**:\n",
    "    1. Generating total area\n",
    "    2. Counting covered area\n",
    "    3. Judge if all area is covered\n",
    "    \n",
    "6. **Testing Components**: \n",
    "    1. Function to test problem 1: Given an overall desired coverage footprint and a sequence of n communications towers, what is the resulting resolved coverage?\n",
    "    2. Function to test problem 2: What is the total area of coverage relative to the desired total coverage area of the original footprint? That is, are there any gaps in coverage?\n",
    "    3. Function to test problem 3: On average, how many communications towers are required before full coverage is obtained?"
   ]
  },
  {
   "cell_type": "markdown",
   "metadata": {},
   "source": [
    "### Triming Component:"
   ]
  },
  {
   "cell_type": "markdown",
   "metadata": {},
   "source": [
    "#### This is the most important component of this project. It resolve how we choose and retain an area when a new tower is posed on the map."
   ]
  },
  {
   "cell_type": "markdown",
   "metadata": {},
   "source": [
    "    **Function example: new_binary_map, new_tower_trimmed = commNetTrim(previous_binary_map, new_tower)**\n",
    "    \n",
    "    Inputs:\n",
    "        1. previous_binary_map: 2-D numpy binary array.\n",
    "        2. new_tower: a tuple of 4 integers, (left_up_x, left_up_y, length, height)\n",
    "    \n",
    "    Outputs:\n",
    "        1. new_binary_map: 2-D numpy binary array\n",
    "        2. new_tower_trimmed: a tuple of 4 integers, (left_up_x, left_up_y, length, height)\n",
    "\n"
   ]
  },
  {
   "cell_type": "code",
   "execution_count": 19,
   "metadata": {},
   "outputs": [],
   "source": [
    "import numpy as np\n",
    "import matplotlib.pyplot as plt"
   ]
  },
  {
   "cell_type": "code",
   "execution_count": null,
   "metadata": {},
   "outputs": [],
   "source": []
  },
  {
   "cell_type": "markdown",
   "metadata": {},
   "source": [
    "### Tower Generating Component: This component generates a random tower."
   ]
  },
  {
   "cell_type": "markdown",
   "metadata": {},
   "source": [
    "    **Function example: new_tower = commNetGenTower(total_area)**\n",
    "\n",
    "    Inputs:\n",
    "        total_area: a tuple of 2 integers, (total_length, total_height).\n",
    "    \n",
    "    Outputs:\n",
    "        new_tower: a tuple of 4 integers, (left_up_x, left_up_y, length, height)"
   ]
  },
  {
   "cell_type": "code",
   "execution_count": 14,
   "metadata": {},
   "outputs": [],
   "source": [
    "def commNetGenTower(total_area):\n",
    "    \"\"\"\n",
    "    Generates a random tower.\n",
    "    \n",
    "    Inputs:\n",
    "    total_area: a tuple of 2 integers, (total_width, total_height).\n",
    "\n",
    "    Outputs:\n",
    "    new_tower: a tuple of 4 integers, (left_up_x, left_up_y, width, height)\n",
    "    \"\"\"\n",
    "    total_width, total_height = total_area\n",
    "    left_up_x = np.random.randint(0, total_width)\n",
    "    left_up_y = np.random.randint(0, total_height)\n",
    "    width = np.random.randint(1, total_width-left_up_x+1)\n",
    "    height = np.random.randint(1, total_height-left_up_y+1)\n",
    "    new_tower = (left_up_x, left_up_y, width, height)\n",
    "    \n",
    "    return new_tower"
   ]
  },
  {
   "cell_type": "code",
   "execution_count": 25,
   "metadata": {},
   "outputs": [
    {
     "name": "stdout",
     "output_type": "stream",
     "text": [
      "(3, 5, 7, 9)\n",
      "(3, 1, 7, 11)\n",
      "(2, 12, 7, 1)\n"
     ]
    }
   ],
   "source": [
    "for i in range(3):\n",
    "    print commNetGenTower(total_area)"
   ]
  },
  {
   "cell_type": "code",
   "execution_count": 23,
   "metadata": {
    "scrolled": false
   },
   "outputs": [
    {
     "data": {
      "image/png": "[encoded data removed]",
      "text/plain": [
       "<Figure size 432x288 with 1 Axes>"
      ]
     },
     "metadata": {},
     "output_type": "display_data"
    },
    {
     "data": {
      "image/png": "[encoded data removed]",
      "text/plain": [
       "<Figure size 432x288 with 1 Axes>"
      ]
     },
     "metadata": {},
     "output_type": "display_data"
    },
    {
     "data": {
      "image/png": "[encoded data removed]",
      "text/plain": [
       "<Figure size 432x288 with 1 Axes>"
      ]
     },
     "metadata": {},
     "output_type": "display_data"
    }
   ],
   "source": [
    "# Test commNetGenTower(total_area)\n",
    "total_area = (10, 15)\n",
    "for i in range(3):\n",
    "    new_tower = commNetGenTower(total_area)\n",
    "    (left_up_x, left_up_y, width, height) = new_tower\n",
    "    old_map = np.zeros(total_area)\n",
    "    new_map = np.copy(old_map)\n",
    "    new_map[left_up_x : left_up_x+width, left_up_y : left_up_y+height] += 1 \n",
    "    plt.matshow(new_map)"
   ]
  },
  {
   "cell_type": "code",
   "execution_count": null,
   "metadata": {},
   "outputs": [],
   "source": []
  }
 ],
 "metadata": {
  "kernelspec": {
   "display_name": "Python 2",
   "language": "python",
   "name": "python2"
  },
  "language_info": {
   "codemirror_mode": {
    "name": "ipython",
    "version": 2
   },
   "file_extension": ".py",
   "mimetype": "text/x-python",
   "name": "python",
   "nbconvert_exporter": "python",
   "pygments_lexer": "ipython2",
   "version": "2.7.14"
  }
 },
 "nbformat": 4,
 "nbformat_minor": 2
}
