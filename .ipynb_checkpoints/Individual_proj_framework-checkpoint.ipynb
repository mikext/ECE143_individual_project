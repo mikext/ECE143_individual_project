{
 "cells": [
  {
   "cell_type": "markdown",
   "metadata": {},
   "source": [
    "## Framework and Interfaces of this project"
   ]
  },
  {
   "cell_type": "markdown",
   "metadata": {},
   "source": [
    "This project is using modular design paradigm, i.e., using functions instead of classes.\n",
    "\n",
    "The whole project includes following vital components.\n",
    "\n",
    "1. **Triming Component: This is the most important component of this project. It resolve how we choose and retain an area when a new tower is posed on the map.**\n",
    "    \n",
    "    **Function example: new_binary_map, new_tower_trimmed = commNetTrim(previous_binary_map, new_tower)**\n",
    "    \n",
    "    Inputs:\n",
    "        1. previous_binary_map: 2-D numpy binary array.\n",
    "        2. new_tower: a tuple of 4 integers, (left_up_x, left_up_y, width, height)\n",
    "    \n",
    "    Outputs:\n",
    "        1. new_binary_map: 2-D numpy binary array\n",
    "        2. new_tower_trimmed: a tuple of 4 integers, (left_up_x, left_up_y, width, height)\n",
    "\n",
    "2. **Tower Generating Component: This component generates a random tower.**\n",
    "\n",
    "    **Function example: new_tower = commNetGenTower(total_area)**\n",
    "\n",
    "    Inputs:\n",
    "        total_area: a tuple of 2 integers, (total_width, total_height).\n",
    "    \n",
    "    Outputs:\n",
    "        new_tower: a tuple of 4 integers, (left_up_x, left_up_y, width, height)\n",
    "    \n",
    "3. **Drawing Component: This component is for printing a colorful map of trimmed towers given a sequence of trimmed tower areas.**\n",
    "    \n",
    "    **Function example: net_patches = commNetDraw(trimmed_towers, total_area)**\n",
    "    \n",
    "    Inputs: \n",
    "        1. trimmed_towers: A list of tuples of 4 integers(left_up_x, left_up_y, width, height), representing trimmed tower areas.\n",
    "        2. total_area: a tuple of 2 integers, (total_width, total_height).\n",
    "    \n",
    "    Output:\n",
    "        net_patches: A matplotlib figure with different colors representing areas covered by different towers.\n",
    "        (Optional): A animation, that the plotting pauses once a new tower area is plotted.\n",
    "\n",
    "4. **Gluing Component: Gluing the previous three components and construct a pipeline**\n",
    "\n",
    "    **Function example: trimmed_towers, net_patches = commNetMain(total_area, given_towers)**\n",
    "    \n",
    "    Inputs: \n",
    "        1. given_towers: A list of tuples of 4 integers(left_up_x, left_up_y, width, height), representing given tower areas.\n",
    "        2. total_area: a tuple of 2 integers, (total_width, total_height).\n",
    "    \n",
    "    Output:\n",
    "        1. net_patches: A matplotlib figure with different colors representing areas covered by different towers.\n",
    "        2. trimmed_towers: A list of tuples of 4 integers(left_up_x, left_up_y, width, height), representing trimmed tower areas.\n",
    "        \n",
    "5. **Utilities**:\n",
    "    1. Generating total area\n",
    "    2. Counting covered area\n",
    "    3. Judge if all area is covered\n",
    "    \n",
    "6. **Testing Components**: \n",
    "    1. Function to test problem 1: Given an overall desired coverage footprint and a sequence of n communications towers, what is the resulting resolved coverage?\n",
    "    2. Function to test problem 2: What is the total area of coverage relative to the desired total coverage area of the original footprint? That is, are there any gaps in coverage?\n",
    "    3. Function to test problem 3: On average, how many communications towers are required before full coverage is obtained?"
   ]
  },
  {
   "cell_type": "markdown",
   "metadata": {},
   "source": [
    "### Triming Component:"
   ]
  },
  {
   "cell_type": "markdown",
   "metadata": {},
   "source": [
    "#### This is the most important component of this project. It resolve how we choose and retain an area when a new tower is posed on the map."
   ]
  },
  {
   "cell_type": "markdown",
   "metadata": {},
   "source": [
    "    **Function example: new_binary_map, new_tower_trimmed = commNetTrim(previous_binary_map, new_tower)**\n",
    "    \n",
    "    Inputs:\n",
    "        1. previous_binary_map: 2-D numpy binary array.\n",
    "        2. new_tower: a tuple of 4 integers, (left_up_x, left_up_y, width, height)\n",
    "    \n",
    "    Outputs:\n",
    "        1. new_binary_map: 2-D numpy binary array\n",
    "        2. new_tower_trimmed: a tuple of 4 integers, (left_up_x, left_up_y, width, height)\n",
    "\n"
   ]
  },
  {
   "cell_type": "code",
   "execution_count": 5,
   "metadata": {},
   "outputs": [],
   "source": [
    "import numpy as np\n",
    "import matplotlib.pyplot as plt"
   ]
  },
  {
   "cell_type": "markdown",
   "metadata": {},
   "source": [
    "### Tower Generating Component: This component generates a random tower."
   ]
  },
  {
   "cell_type": "markdown",
   "metadata": {},
   "source": [
    "    **Function example: new_tower = commNetGenTower(total_area)**\n",
    "\n",
    "    Inputs:\n",
    "        total_area: a tuple of 2 integers, (total_width, total_height).\n",
    "    \n",
    "    Outputs:\n",
    "        new_tower: a tuple of 4 integers, (left_up_x, left_up_y, width, height)"
   ]
  },
  {
   "cell_type": "code",
   "execution_count": 6,
   "metadata": {},
   "outputs": [],
   "source": [
    "def commNetGenTower(total_area):\n",
    "    \"\"\"\n",
    "    Generates a random tower.\n",
    "    \n",
    "    Inputs:\n",
    "    total_area: a tuple of 2 integers, (total_height, total_height).\n",
    "\n",
    "    Outputs:\n",
    "    new_tower: a tuple of 4 integers, (left_up_x, left_up_y, height, height)\n",
    "    \"\"\"\n",
    "    total_width, total_height = total_area\n",
    "    left_up_x = np.random.randint(0, total_width)\n",
    "    left_up_y = np.random.randint(0, total_height)\n",
    "    width = np.random.randint(1, total_width-left_up_x+1)\n",
    "    height = np.random.randint(1, total_height-left_up_y+1)\n",
    "    new_tower = (left_up_x, left_up_y, width, height)\n",
    "    \n",
    "    return new_tower"
   ]
  },
  {
   "cell_type": "code",
   "execution_count": 7,
   "metadata": {},
   "outputs": [],
   "source": [
    "total_area = (10, 15)"
   ]
  },
  {
   "cell_type": "code",
   "execution_count": 8,
   "metadata": {},
   "outputs": [
    {
     "name": "stdout",
     "output_type": "stream",
     "text": [
      "(9, 7, 1, 4)\n",
      "(5, 13, 2, 2)\n",
      "(4, 14, 1, 1)\n"
     ]
    }
   ],
   "source": [
    "for i in range(3):\n",
    "    print commNetGenTower(total_area)"
   ]
  },
  {
   "cell_type": "code",
   "execution_count": 9,
   "metadata": {
    "scrolled": false
   },
   "outputs": [
    {
     "data": {
      "image/png": "[encoded data removed]",
      "text/plain": [
       "<Figure size 432x288 with 1 Axes>"
      ]
     },
     "metadata": {},
     "output_type": "display_data"
    },
    {
     "data": {
      "image/png": "[encoded data removed]",
      "text/plain": [
       "<Figure size 432x288 with 1 Axes>"
      ]
     },
     "metadata": {},
     "output_type": "display_data"
    },
    {
     "data": {
      "image/png": "[encoded data removed]",
      "text/plain": [
       "<Figure size 432x288 with 1 Axes>"
      ]
     },
     "metadata": {},
     "output_type": "display_data"
    }
   ],
   "source": [
    "# Test commNetGenTower(total_area)\n",
    "total_area = (10, 15)\n",
    "for i in range(3):\n",
    "    new_tower = commNetGenTower(total_area)\n",
    "    (left_up_x, left_up_y, width, height) = new_tower\n",
    "    old_map = np.zeros(total_area)\n",
    "    new_map = np.copy(old_map)\n",
    "    new_map[left_up_x : left_up_x+width, left_up_y : left_up_y+height] += 1 \n",
    "    plt.matshow(new_map)"
   ]
  },
  {
   "cell_type": "markdown",
   "metadata": {},
   "source": [
    "### **Triming Component: This is the most important component of this project. It resolve how we choose and retain an area when a new tower is posed on the map.**\n",
    "    \n",
    "    **Function example: new_binary_map, new_tower_trimmed = commNetTrim(previous_binary_map, new_tower)**\n",
    "    \n",
    "    Inputs:\n",
    "        1. previous_binary_map: 2-D numpy binary array.\n",
    "        2. new_tower: a tuple of 4 integers, (left_up_x, left_up_y, width, height)\n",
    "    \n",
    "    Outputs:\n",
    "        1. new_binary_map: 2-D numpy binary array\n",
    "        2. new_tower_trimmed: a tuple of 4 integers, (left_up_x, left_up_y, width, height)"
   ]
  },
  {
   "cell_type": "markdown",
   "metadata": {},
   "source": [
    "#### In order to implement an efficient trimming, I take three steps:\n",
    "    1. Write a subroutine *commNetLargeRectHist()* to calculate the largest rectangle in a histogram;\n",
    "    2. Use the current tower area to minus overlapping area, resulting in a binary matrix of 0(occupied)/1(unoccupied);\n",
    "    3. In this binary matrix, use *commNetLargeRectHist()* to find the possible largest rectangle, and regard this rectangle as trimmed area of this new tower\n"
   ]
  },
  {
   "cell_type": "markdown",
   "metadata": {},
   "source": [
    "##### step 1\n",
    "In the following function, I am implementing an algorithm that returns the largest area in a histogram. The time complexity of this algorithm is O(n). This implementation is inspired by the descritption of the algorithm in following link: https://www.geeksforgeeks.org/largest-rectangle-under-histogram/. I modified the original algorithm (add a \"zero\" bar at the beginning and at the end) in order to give a more general result and avoid discussing corner cases."
   ]
  },
  {
   "cell_type": "code",
   "execution_count": 10,
   "metadata": {},
   "outputs": [],
   "source": [
    "def commNetLargeRectHist(alist):\n",
    "    \"\"\"\n",
    "    Implementation of an algorithm that returns the largest area in a histogram.\n",
    "    \n",
    "    Params:\n",
    "    -------\n",
    "    alist, a list of intergers representing a histogram.\n",
    "    \n",
    "    Return:\n",
    "    -------\n",
    "    left_index: int, left index(not included) of the largest rectangle;\n",
    "    right_index: int, right index(not included) of the largest rectangle;\n",
    "    height: int, height of the largest rectangle;\n",
    "    largest_area: int, area of the largest rectangle.\n",
    "    \"\"\"\n",
    "    \n",
    "    full_list = [0] + alist + [0] # pad the original histogram with two \"zero\" bars, for consistency in algorithm\n",
    "    index_list = list(range(len(full_list)))\n",
    "\n",
    "    stk = []\n",
    "    stk.append(0) # initialize the stack of indices, and put in the first element in padded list.\n",
    "    saved_rects = []\n",
    "    largest_area = 0 # initialize the largest area to 0.\n",
    "\n",
    "    i = 1 # initialize the pointer to position 1, i.e. the beginning of histogram\n",
    "\n",
    "    while stk[-1]!=0 or full_list[i]!=0: \n",
    "        # Stop condition: the top of stack is zero AND we have reached the end of histogram\n",
    "\n",
    "        if full_list[i] >= full_list[stk[-1]]: # If this bar is larger than/equal to the top bar in the stack\n",
    "            stk.append(i) # put this bar in stack\n",
    "            i += 1 # evaluate the next bar in histogram\n",
    "\n",
    "        else: # If this bar is smaller than the top bar in the stack\n",
    "            this_height = full_list[stk.pop()] # pop the top bar in the stack, and use its value as height of rectangle\n",
    "            this_left_index = stk[-1] # left and right indices are used to calculate width of rectangle\n",
    "            this_right_index = i\n",
    "            this_area = (this_right_index - this_left_index - 1) * this_height\n",
    "            saved_rects.append((this_height, this_left_index, this_right_index, this_area))\n",
    "            if this_area > largest_area: # store data if this area is the largest so far\n",
    "                largest_area = this_area\n",
    "                left_index = this_left_index\n",
    "                right_index = this_right_index\n",
    "                height = this_height\n",
    "    print saved_rects\n",
    "\n",
    "    return {'largest_area': largest_area, 'left_index': left_index, 'right_index': right_index, 'height': height}"
   ]
  },
  {
   "cell_type": "code",
   "execution_count": 11,
   "metadata": {},
   "outputs": [
    {
     "name": "stdout",
     "output_type": "stream",
     "text": [
      "[(6, 0, 2, 6), (5, 2, 4, 5), (5, 4, 6, 5), (4, 2, 6, 12), (2, 0, 6, 10), (6, 6, 8, 6), (1, 0, 8, 7)]\n"
     ]
    }
   ],
   "source": [
    "d = commNetLargeRectHist([6, 2, 5, 4, 5, 1, 6])"
   ]
  },
  {
   "cell_type": "code",
   "execution_count": 12,
   "metadata": {},
   "outputs": [
    {
     "data": {
      "text/plain": [
       "{'height': 4, 'largest_area': 12, 'left_index': 2, 'right_index': 6}"
      ]
     },
     "execution_count": 12,
     "metadata": {},
     "output_type": "execute_result"
    }
   ],
   "source": [
    "d"
   ]
  },
  {
   "cell_type": "markdown",
   "metadata": {},
   "source": [
    "##### step 2\n",
    "In the following function, I subtract the overlapping area from the new tower, resulting in a binary matrix of 0(occupied)/1(unoccupied);"
   ]
  },
  {
   "cell_type": "code",
   "execution_count": 3,
   "metadata": {},
   "outputs": [],
   "source": [
    "def commNetSubtractOverlap(previous_binary_map, new_tower):\n",
    "    \"\"\"\n",
    "    Subtract the overlapping area from the new tower.\n",
    "    \n",
    "    Params:\n",
    "    -------\n",
    "    1. previous_binary_map: 2-D numpy binary array. \"1\" is positions covered by previous towers, \"0\" is positions\n",
    "    not covered by previous towers.\n",
    "    2. new_tower: a tuple of 4 integers, (left_up_x, left_up_y, width, height)\n",
    "    \n",
    "    Return:\n",
    "    -------\n",
    "    remain_area: A binary 2-D numpy array of 0(occupied)/1(unoccupied), the same size as new tower area.\n",
    "    \"\"\"\n",
    "    \n",
    "    (left_up_x, left_up_y, width, height) = new_tower\n",
    "    remain_area = np.ones((width, height)) - previous_binary_map[left_up_x : left_up_x+width, left_up_y : left_up_y+height]\n",
    "    \n",
    "    return remain_area\n"
   ]
  },
  {
   "cell_type": "code",
   "execution_count": 112,
   "metadata": {},
   "outputs": [
    {
     "name": "stdout",
     "output_type": "stream",
     "text": [
      "[[1. 0. 0. 0. 0. 0. 0. 0.]\n",
      " [0. 1. 0. 0. 0. 0. 0. 0.]\n",
      " [0. 0. 1. 0. 0. 0. 0. 0.]\n",
      " [0. 0. 0. 1. 0. 0. 0. 0.]\n",
      " [0. 0. 0. 0. 1. 0. 0. 0.]\n",
      " [0. 0. 0. 0. 0. 1. 0. 0.]\n",
      " [0. 0. 0. 0. 0. 0. 1. 0.]\n",
      " [0. 0. 0. 0. 0. 0. 0. 1.]]\n",
      "(5, 5, 3, 2)\n",
      "[[0. 1.]\n",
      " [1. 0.]\n",
      " [1. 1.]]\n"
     ]
    }
   ],
   "source": [
    "previous_towers = np.eye(8)\n",
    "new_tower = commNetGenTower((8, 8))\n",
    "ra = commNetSubtractOverlap(previous_towers, new_tower)\n",
    "\n",
    "print previous_towers\n",
    "print new_tower\n",
    "print ra"
   ]
  },
  {
   "cell_type": "markdown",
   "metadata": {},
   "source": [
    "##### step 3\n",
    "In the following function, I use *commNetLargeRectHist()* to find the possible largest rectangle in the *remain_area* returned by *commNetSubtractOverlap()*, and regard this rectangle as trimmed area of this new tower."
   ]
  },
  {
   "cell_type": "code",
   "execution_count": null,
   "metadata": {},
   "outputs": [],
   "source": [
    "def commNetSubtractOverlap(remain_area, new_tower):\n",
    "    \"\"\"\n",
    "    Subtract the overlapping area from the new tower.\n",
    "    \n",
    "    Params:\n",
    "    -------\n",
    "    1. previous_binary_map: 2-D numpy binary array. \"1\" is positions covered by previous towers, \"0\" is positions\n",
    "    not covered by previous towers.\n",
    "    2. new_tower: a tuple of 4 integers, (left_up_x, left_up_y, width, height)\n",
    "    \n",
    "    Return:\n",
    "    -------\n",
    "    remain_area: A binary 2-D numpy array of 0(occupied)/1(unoccupied), the same size as new tower area.\n",
    "    \"\"\"\n",
    "    \n",
    "    (left_up_x, left_up_y, width, height) = new_tower\n",
    "    remain_area = np.ones((width, height)) - previous_binary_map[left_up_x : left_up_x+width, left_up_y : left_up_y+height]\n",
    "    \n",
    "    return remain_area"
   ]
  }
 ],
 "metadata": {
  "kernelspec": {
   "display_name": "Python 2",
   "language": "python",
   "name": "python2"
  },
  "language_info": {
   "codemirror_mode": {
    "name": "ipython",
    "version": 2
   },
   "file_extension": ".py",
   "mimetype": "text/x-python",
   "name": "python",
   "nbconvert_exporter": "python",
   "pygments_lexer": "ipython2",
   "version": "2.7.14"
  }
 },
 "nbformat": 4,
 "nbformat_minor": 2
}
